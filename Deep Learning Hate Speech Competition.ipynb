{
 "cells": [
  {
   "cell_type": "code",
   "execution_count": 29,
   "metadata": {},
   "outputs": [],
   "source": [
    "import pandas as pd\n",
    "import matplotlib.pyplot as plt\n",
    "import os\n",
    "import logging\n",
    "import string\n",
    "from nltk.tokenize import TweetTokenizer\n",
    "from nltk.stem import WordNetLemmatizer\n",
    "from nltk.corpus import stopwords\n",
    "import nltk\n",
    "import seaborn as sns\n",
    "from functools import reduce\n",
    "\n",
    "import d6tflow\n",
    "# d6tflow uses luigi to intelligently pass parameters upstream and downstream\n",
    "import luigi\n",
    "from luigi.util import inherits, requires\n",
    "\n",
    "d6tflow.set_dir(\"d6tflow_hate_speech/\")\n",
    "logging.basicConfig(format=\"%(asctime)s : %(levelname)s : %(message)s\",level=logging.INFO)"
   ]
  },
  {
   "cell_type": "markdown",
   "metadata": {},
   "source": [
    "# Loading Data\n",
    "***"
   ]
  },
  {
   "cell_type": "code",
   "execution_count": 2,
   "metadata": {},
   "outputs": [],
   "source": [
    "DATA_DIR = \"data/hate_speech_tweet_data/\""
   ]
  },
  {
   "cell_type": "code",
   "execution_count": 3,
   "metadata": {
    "code_folding": [
     0
    ]
   },
   "outputs": [],
   "source": [
    "def load_data( data_dir ):\n",
    "    train_file_name = \"tweet_train_set.csv\"\n",
    "    test_file_name = \"tweet_test_set.csv\"\n",
    "    train_set = pd.read_csv(os.path.join(data_dir,train_file_name))\n",
    "    logging.info(\"Train set loaded\")\n",
    "    test_set = pd.read_csv(os.path.join(data_dir,test_file_name))\n",
    "    logging.info(\"Test set loaded\")\n",
    "    return train_set, test_set"
   ]
  },
  {
   "cell_type": "code",
   "execution_count": 4,
   "metadata": {},
   "outputs": [
    {
     "name": "stderr",
     "output_type": "stream",
     "text": [
      "2019-11-14 16:38:29,094 : INFO : Train set loaded\n",
      "2019-11-14 16:38:29,122 : INFO : Test set loaded\n"
     ]
    }
   ],
   "source": [
    "x_train, x_test = load_data( DATA_DIR )"
   ]
  },
  {
   "cell_type": "code",
   "execution_count": 5,
   "metadata": {},
   "outputs": [
    {
     "data": {
      "image/png": "[encoded data removed]",
      "text/plain": [
       "<Figure size 432x288 with 1 Axes>"
      ]
     },
     "metadata": {
      "needs_background": "light"
     },
     "output_type": "display_data"
    }
   ],
   "source": [
    "x_train.label.value_counts().plot(kind='barh')\n",
    "plt.show()"
   ]
  },
  {
   "cell_type": "markdown",
   "metadata": {},
   "source": [
    "# Preprocessing Pipeline\n",
    "***"
   ]
  },
  {
   "cell_type": "code",
   "execution_count": 6,
   "metadata": {},
   "outputs": [],
   "source": [
    "REMOVE_PUNCTUATION = False\n",
    "LEMMATIZE = False\n",
    "REMOVE_STOPWORDS = False\n",
    "REMOVE_SHORT_TWEETS = 0"
   ]
  },
  {
   "cell_type": "code",
   "execution_count": 7,
   "metadata": {},
   "outputs": [],
   "source": [
    "not_alpha_nor_hashtag = \"[^a-zA-Z#]\"\n",
    "punctuation = \"[{}]\".format(string.punctuation)\n",
    "stop_words = stopwords.words(\"english\")"
   ]
  },
  {
   "cell_type": "markdown",
   "metadata": {},
   "source": [
    "Tokenize Tweets"
   ]
  },
  {
   "cell_type": "code",
   "execution_count": 8,
   "metadata": {},
   "outputs": [],
   "source": [
    "tokenizer = TweetTokenizer(preserve_case=False, strip_handles=True)"
   ]
  },
  {
   "cell_type": "code",
   "execution_count": 9,
   "metadata": {},
   "outputs": [],
   "source": [
    "tokenized_training_data = x_train.tweet.apply(tokenizer.tokenize)"
   ]
  },
  {
   "cell_type": "markdown",
   "metadata": {},
   "source": [
    "Remove Punctuation"
   ]
  },
  {
   "cell_type": "code",
   "execution_count": 10,
   "metadata": {},
   "outputs": [],
   "source": [
    "def remove_punctuation(tokenized_tweet):\n",
    "    tweet_less_punctuation = tokenized_tweet\n",
    "    for word in tokenized_tweet:\n",
    "        if word in punctuation:\n",
    "            tweet_less_punctuation.remove(word)\n",
    "    return tweet_less_punctuation\n",
    "\n",
    "if REMOVE_PUNCTUATION:\n",
    "    tokenized_training_data = tokenized_training_data.apply(remove_punctuation)"
   ]
  },
  {
   "cell_type": "markdown",
   "metadata": {},
   "source": [
    "Remove stopwords"
   ]
  },
  {
   "cell_type": "code",
   "execution_count": 11,
   "metadata": {},
   "outputs": [],
   "source": [
    "def remove_stopwords(tokenized_tweet):\n",
    "    tweet_less_stopwords = tokenized_tweet\n",
    "    for word in tokenized_tweet:\n",
    "        if word in stopwords:\n",
    "            tweet_less_stopwords.remove(word)\n",
    "    return tweet_less_stopwords\n",
    "\n",
    "if REMOVE_STOPWORDS:\n",
    "    tokenized_training_data = tokenized_training_data.apply(remove_stopwords)"
   ]
  },
  {
   "cell_type": "markdown",
   "metadata": {},
   "source": [
    "Lemmatize"
   ]
  },
  {
   "cell_type": "code",
   "execution_count": 12,
   "metadata": {},
   "outputs": [],
   "source": [
    "lemmatizer = WordNetLemmatizer()\n",
    "def lemmatize_tweet(tokenized_tweet):\n",
    "    for i, word in enumerate(tokenized_tweet):\n",
    "        tokenized_tweet[i] = lemmatizer.lemmatize(word)\n",
    "    return tokenized_tweet\n",
    "        \n",
    "if LEMMATIZE:\n",
    "    tokenized_training_data.apply(lemmatize_tweet)"
   ]
  },
  {
   "cell_type": "markdown",
   "metadata": {},
   "source": [
    "Remove Tweets Shorter Than Length `REMOVE_SHORT_TWEETS`"
   ]
  },
  {
   "cell_type": "code",
   "execution_count": 13,
   "metadata": {},
   "outputs": [],
   "source": [
    "tokenized_training_data = tokenized_training_data[tokenized_training_data.str.len() >= REMOVE_SHORT_TWEETS]"
   ]
  },
  {
   "cell_type": "markdown",
   "metadata": {},
   "source": [
    "# Exploratory Data Analysis\n",
    "***"
   ]
  },
  {
   "cell_type": "markdown",
   "metadata": {},
   "source": [
    "# Build a Baseline Model\n",
    "***"
   ]
  },
  {
   "cell_type": "code",
   "execution_count": null,
   "metadata": {},
   "outputs": [],
   "source": []
  }
 ],
 "metadata": {
  "hide_input": false,
  "kernelspec": {
   "display_name": "base",
   "language": "python",
   "name": "base"
  },
  "language_info": {
   "codemirror_mode": {
    "name": "ipython",
    "version": 3
   },
   "file_extension": ".py",
   "mimetype": "text/x-python",
   "name": "python",
   "nbconvert_exporter": "python",
   "pygments_lexer": "ipython3",
   "version": "3.6.9"
  },
  "toc": {
   "base_numbering": 1,
   "nav_menu": {},
   "number_sections": true,
   "sideBar": true,
   "skip_h1_title": false,
   "title_cell": "Table of Contents",
   "title_sidebar": "Contents",
   "toc_cell": false,
   "toc_position": {},
   "toc_section_display": true,
   "toc_window_display": true
  },
  "varInspector": {
   "cols": {
    "lenName": 16,
    "lenType": 16,
    "lenVar": 40
   },
   "kernels_config": {
    "python": {
     "delete_cmd_postfix": "",
     "delete_cmd_prefix": "del ",
     "library": "var_list.py",
     "varRefreshCmd": "print(var_dic_list())"
    },
    "r": {
     "delete_cmd_postfix": ") ",
     "delete_cmd_prefix": "rm(",
     "library": "var_list.r",
     "varRefreshCmd": "cat(var_dic_list()) "
    }
   },
   "types_to_exclude": [
    "module",
    "function",
    "builtin_function_or_method",
    "instance",
    "_Feature"
   ],
   "window_display": false
  }
 },
 "nbformat": 4,
 "nbformat_minor": 2
}
