{
 "cells": [
  {
   "cell_type": "markdown",
   "metadata": {},
   "source": [
    "# Introduction \n",
    "***\n",
    "Sentiment analysis is part of the Natural Language Processing techniques that consist of extracting general sentiment or emotions from raw text. This is usually used on social media posts or customer reviews to understand if certain reviews are negative or positive, and if possible, why.\n",
    "\n",
    "We are going to be using NLTK and Gensim. NLTK is a pretty canonical python module for NLP, and Gensim is a topic-modeling and vector space toolkit.\n",
    "\n",
    "Our dataset is taken from [here](https://www.kaggle.com/jiashenliu/515k-hotel-reviews-data-in-europe).\n",
    "\n",
    "For each review, we want to predict if the review was good or bad. The review ratings range from 0 to 10.\n",
    "\n",
    "We can re-frame the problem by assuming that bad reviews are ones with overall rating less than 5, and good reviews have overall ratings greater than or equal to 5.\n",
    "\n",
    "We would like to predict the rating using only the raw text data.\n",
    "\n",
    "# Load Data\n",
    "***"
   ]
  },
  {
   "cell_type": "code",
   "execution_count": 1,
   "metadata": {},
   "outputs": [],
   "source": [
    "import pandas as pd\n",
    "reviews = pd.read_csv(\"data/Hotel_Reviews.csv\")"
   ]
  },
  {
   "cell_type": "markdown",
   "metadata": {},
   "source": [
    "Let's take a look at the columns inside this dataset. "
   ]
  },
  {
   "cell_type": "code",
   "execution_count": 5,
   "metadata": {},
   "outputs": [
    {
     "name": "stdout",
     "output_type": "stream",
     "text": [
      "<class 'pandas.core.frame.DataFrame'>\n",
      "RangeIndex: 515738 entries, 0 to 515737\n",
      "Data columns (total 17 columns):\n",
      "Hotel_Address                                 515738 non-null object\n",
      "Additional_Number_of_Scoring                  515738 non-null int64\n",
      "Review_Date                                   515738 non-null object\n",
      "Average_Score                                 515738 non-null float64\n",
      "Hotel_Name                                    515738 non-null object\n",
      "Reviewer_Nationality                          515738 non-null object\n",
      "Negative_Review                               515738 non-null object\n",
      "Review_Total_Negative_Word_Counts             515738 non-null int64\n",
      "Total_Number_of_Reviews                       515738 non-null int64\n",
      "Positive_Review                               515738 non-null object\n",
      "Review_Total_Positive_Word_Counts             515738 non-null int64\n",
      "Total_Number_of_Reviews_Reviewer_Has_Given    515738 non-null int64\n",
      "Reviewer_Score                                515738 non-null float64\n",
      "Tags                                          515738 non-null object\n",
      "days_since_review                             515738 non-null object\n",
      "lat                                           512470 non-null float64\n",
      "lng                                           512470 non-null float64\n",
      "dtypes: float64(4), int64(5), object(8)\n",
      "memory usage: 66.9+ MB\n"
     ]
    }
   ],
   "source": [
    "reviews.info()"
   ]
  },
  {
   "cell_type": "code",
   "execution_count": null,
   "metadata": {},
   "outputs": [],
   "source": []
  }
 ],
 "metadata": {
  "hide_input": false,
  "kernelspec": {
   "display_name": "base",
   "language": "python",
   "name": "base"
  },
  "language_info": {
   "codemirror_mode": {
    "name": "ipython",
    "version": 3
   },
   "file_extension": ".py",
   "mimetype": "text/x-python",
   "name": "python",
   "nbconvert_exporter": "python",
   "pygments_lexer": "ipython3",
   "version": "3.6.2"
  },
  "toc": {
   "base_numbering": 1,
   "nav_menu": {},
   "number_sections": true,
   "sideBar": true,
   "skip_h1_title": false,
   "title_cell": "Table of Contents",
   "title_sidebar": "Contents",
   "toc_cell": false,
   "toc_position": {},
   "toc_section_display": true,
   "toc_window_display": false
  },
  "varInspector": {
   "cols": {
    "lenName": 16,
    "lenType": 16,
    "lenVar": 40
   },
   "kernels_config": {
    "python": {
     "delete_cmd_postfix": "",
     "delete_cmd_prefix": "del ",
     "library": "var_list.py",
     "varRefreshCmd": "print(var_dic_list())"
    },
    "r": {
     "delete_cmd_postfix": ") ",
     "delete_cmd_prefix": "rm(",
     "library": "var_list.r",
     "varRefreshCmd": "cat(var_dic_list()) "
    }
   },
   "types_to_exclude": [
    "module",
    "function",
    "builtin_function_or_method",
    "instance",
    "_Feature"
   ],
   "window_display": false
  }
 },
 "nbformat": 4,
 "nbformat_minor": 2
}
