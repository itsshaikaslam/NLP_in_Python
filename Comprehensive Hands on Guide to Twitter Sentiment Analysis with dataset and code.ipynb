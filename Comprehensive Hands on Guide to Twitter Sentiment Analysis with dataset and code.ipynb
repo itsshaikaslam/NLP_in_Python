{
 "cells": [
  {
   "cell_type": "markdown",
   "metadata": {},
   "source": [
    "# Introduction\n",
    "***\n",
    "One of the most common applications of NLP is sentiment analysis. From opinion polls to creating entire marketing strategies, this domain has completely reshaped the way businesses work.\n",
    "\n",
    "Thousands of text documents can be processed for sentiment (and other features such as named entities, topics, themes, etc.) in seconds.\n",
    "\n",
    "In this article, we solve the Twitter Sentiment Analysis Practice Problem. We follow a sequence of steps needed to solve a general sentiment analysis problem. We start with preprocessing and cleaning the raw text of the tweets.\n",
    "\n",
    "Then, we'll explore the cleaned text and try to get some intuition about the context of the tweets. \n",
    "\n",
    "After that, we will extract numerical features from the data and use them to train models and identify the sentiments of the tweets.\n",
    "# Understand the Problem Statement\n",
    "***\n",
    "The object of this task is to **identify hate speech in tweets**. For the sake of simplicity, we say a tweet **contains hate speech if it has a racist or sexist sentiment associated with it.** So in other words, the task is to **classify tweets as racist or sexists or neither**. \n",
    "# Tweet Preprocessing and Cleaning\n",
    "***\n",
    "Cleaning the data is necessary in order to remove noise in the data and make it more consistent. We clean noise that is less relevant to find the sentiment of tweets such as punctuation, special characters, numbers and terms that don't carry explanatory weight in general. \n",
    "# The Data\n",
    "***\n",
    "You can download the data from [here](https://datahack.analyticsvidhya.com/contest/practice-problem-twitter-sentiment-analysis/)\n",
    "\n",
    "The collection of tweets is split in the ratio of 65:35 in training to testing. Out of the testing set, 30% is public and the rest is private. \n",
    "\n",
    "The training set is contained in **train.csv** which contains 31,962 labelled tweets. Each line contains the tweet id, its label and the tweet. \n",
    "\n",
    "And the testing set is contained in **test_tweets.csv** which contains tweet ids and the tweet text.\n",
    "\n",
    "3 files need to be uploaded - "
   ]
  }
 ],
 "metadata": {
  "hide_input": false,
  "kernelspec": {
   "display_name": "base",
   "language": "python",
   "name": "base"
  },
  "language_info": {
   "codemirror_mode": {
    "name": "ipython",
    "version": 3
   },
   "file_extension": ".py",
   "mimetype": "text/x-python",
   "name": "python",
   "nbconvert_exporter": "python",
   "pygments_lexer": "ipython3",
   "version": "3.6.2"
  },
  "toc": {
   "base_numbering": 1,
   "nav_menu": {},
   "number_sections": true,
   "sideBar": true,
   "skip_h1_title": false,
   "title_cell": "Table of Contents",
   "title_sidebar": "Contents",
   "toc_cell": false,
   "toc_position": {},
   "toc_section_display": true,
   "toc_window_display": false
  },
  "varInspector": {
   "cols": {
    "lenName": 16,
    "lenType": 16,
    "lenVar": 40
   },
   "kernels_config": {
    "python": {
     "delete_cmd_postfix": "",
     "delete_cmd_prefix": "del ",
     "library": "var_list.py",
     "varRefreshCmd": "print(var_dic_list())"
    },
    "r": {
     "delete_cmd_postfix": ") ",
     "delete_cmd_prefix": "rm(",
     "library": "var_list.r",
     "varRefreshCmd": "cat(var_dic_list()) "
    }
   },
   "types_to_exclude": [
    "module",
    "function",
    "builtin_function_or_method",
    "instance",
    "_Feature"
   ],
   "window_display": false
  }
 },
 "nbformat": 4,
 "nbformat_minor": 2
}
